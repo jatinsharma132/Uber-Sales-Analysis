{
 "cells": [
  {
   "cell_type": "code",
   "execution_count": 1,
   "id": "69e5608d-79e3-4d7e-b577-f255371e22a3",
   "metadata": {},
   "outputs": [],
   "source": [
    "import pandas as pd\n",
    "import numpy as np\n",
    "import matplotlib.pyplot as plt\n",
    "import seaborn as sns"
   ]
  },
  {
   "cell_type": "code",
   "execution_count": 4,
   "id": "7ae4f5ac-3f50-4fbd-9762-abb98c02bb7b",
   "metadata": {},
   "outputs": [
    {
     "data": {
      "text/html": [
       "<div>\n",
       "<style scoped>\n",
       "    .dataframe tbody tr th:only-of-type {\n",
       "        vertical-align: middle;\n",
       "    }\n",
       "\n",
       "    .dataframe tbody tr th {\n",
       "        vertical-align: top;\n",
       "    }\n",
       "\n",
       "    .dataframe thead th {\n",
       "        text-align: right;\n",
       "    }\n",
       "</style>\n",
       "<table border=\"1\" class=\"dataframe\">\n",
       "  <thead>\n",
       "    <tr style=\"text-align: right;\">\n",
       "      <th></th>\n",
       "      <th>Date</th>\n",
       "      <th>Time</th>\n",
       "      <th>Booking ID</th>\n",
       "      <th>Booking Status</th>\n",
       "      <th>Customer ID</th>\n",
       "      <th>Vehicle Type</th>\n",
       "      <th>Pickup Location</th>\n",
       "      <th>Drop Location</th>\n",
       "      <th>Avg VTAT</th>\n",
       "      <th>Avg CTAT</th>\n",
       "      <th>...</th>\n",
       "      <th>Reason for cancelling by Customer</th>\n",
       "      <th>Cancelled Rides by Driver</th>\n",
       "      <th>Driver Cancellation Reason</th>\n",
       "      <th>Incomplete Rides</th>\n",
       "      <th>Incomplete Rides Reason</th>\n",
       "      <th>Booking Value</th>\n",
       "      <th>Ride Distance</th>\n",
       "      <th>Driver Ratings</th>\n",
       "      <th>Customer Rating</th>\n",
       "      <th>Payment Method</th>\n",
       "    </tr>\n",
       "  </thead>\n",
       "  <tbody>\n",
       "    <tr>\n",
       "      <th>0</th>\n",
       "      <td>23-03-24</td>\n",
       "      <td>12:29:38</td>\n",
       "      <td>\"CNR5884300\"</td>\n",
       "      <td>No Driver Found</td>\n",
       "      <td>\"CID1982111\"</td>\n",
       "      <td>eBike</td>\n",
       "      <td>Palam Vihar</td>\n",
       "      <td>Jhilmil</td>\n",
       "      <td>NaN</td>\n",
       "      <td>NaN</td>\n",
       "      <td>...</td>\n",
       "      <td>NaN</td>\n",
       "      <td>NaN</td>\n",
       "      <td>NaN</td>\n",
       "      <td>NaN</td>\n",
       "      <td>NaN</td>\n",
       "      <td>NaN</td>\n",
       "      <td>NaN</td>\n",
       "      <td>NaN</td>\n",
       "      <td>NaN</td>\n",
       "      <td>NaN</td>\n",
       "    </tr>\n",
       "    <tr>\n",
       "      <th>1</th>\n",
       "      <td>29-11-24</td>\n",
       "      <td>18:01:39</td>\n",
       "      <td>\"CNR1326809\"</td>\n",
       "      <td>Incomplete</td>\n",
       "      <td>\"CID4604802\"</td>\n",
       "      <td>Go Sedan</td>\n",
       "      <td>Shastri Nagar</td>\n",
       "      <td>Gurgaon Sector 56</td>\n",
       "      <td>4.9</td>\n",
       "      <td>14.0</td>\n",
       "      <td>...</td>\n",
       "      <td>NaN</td>\n",
       "      <td>NaN</td>\n",
       "      <td>NaN</td>\n",
       "      <td>1.0</td>\n",
       "      <td>Vehicle Breakdown</td>\n",
       "      <td>237.0</td>\n",
       "      <td>5.73</td>\n",
       "      <td>NaN</td>\n",
       "      <td>NaN</td>\n",
       "      <td>UPI</td>\n",
       "    </tr>\n",
       "    <tr>\n",
       "      <th>2</th>\n",
       "      <td>23-08-24</td>\n",
       "      <td>8:56:10</td>\n",
       "      <td>\"CNR8494506\"</td>\n",
       "      <td>Completed</td>\n",
       "      <td>\"CID9202816\"</td>\n",
       "      <td>Auto</td>\n",
       "      <td>Khandsa</td>\n",
       "      <td>Malviya Nagar</td>\n",
       "      <td>13.4</td>\n",
       "      <td>25.8</td>\n",
       "      <td>...</td>\n",
       "      <td>NaN</td>\n",
       "      <td>NaN</td>\n",
       "      <td>NaN</td>\n",
       "      <td>NaN</td>\n",
       "      <td>NaN</td>\n",
       "      <td>627.0</td>\n",
       "      <td>13.58</td>\n",
       "      <td>4.9</td>\n",
       "      <td>4.9</td>\n",
       "      <td>Debit Card</td>\n",
       "    </tr>\n",
       "  </tbody>\n",
       "</table>\n",
       "<p>3 rows × 21 columns</p>\n",
       "</div>"
      ],
      "text/plain": [
       "       Date      Time    Booking ID   Booking Status   Customer ID  \\\n",
       "0  23-03-24  12:29:38  \"CNR5884300\"  No Driver Found  \"CID1982111\"   \n",
       "1  29-11-24  18:01:39  \"CNR1326809\"       Incomplete  \"CID4604802\"   \n",
       "2  23-08-24   8:56:10  \"CNR8494506\"        Completed  \"CID9202816\"   \n",
       "\n",
       "  Vehicle Type Pickup Location      Drop Location  Avg VTAT  Avg CTAT  ...  \\\n",
       "0        eBike     Palam Vihar            Jhilmil       NaN       NaN  ...   \n",
       "1     Go Sedan   Shastri Nagar  Gurgaon Sector 56       4.9      14.0  ...   \n",
       "2         Auto         Khandsa      Malviya Nagar      13.4      25.8  ...   \n",
       "\n",
       "   Reason for cancelling by Customer Cancelled Rides by Driver  \\\n",
       "0                                NaN                       NaN   \n",
       "1                                NaN                       NaN   \n",
       "2                                NaN                       NaN   \n",
       "\n",
       "   Driver Cancellation Reason Incomplete Rides  Incomplete Rides Reason  \\\n",
       "0                         NaN              NaN                      NaN   \n",
       "1                         NaN              1.0        Vehicle Breakdown   \n",
       "2                         NaN              NaN                      NaN   \n",
       "\n",
       "  Booking Value  Ride Distance  Driver Ratings  Customer Rating  \\\n",
       "0           NaN            NaN             NaN              NaN   \n",
       "1         237.0           5.73             NaN              NaN   \n",
       "2         627.0          13.58             4.9              4.9   \n",
       "\n",
       "   Payment Method  \n",
       "0             NaN  \n",
       "1             UPI  \n",
       "2      Debit Card  \n",
       "\n",
       "[3 rows x 21 columns]"
      ]
     },
     "execution_count": 4,
     "metadata": {},
     "output_type": "execute_result"
    }
   ],
   "source": [
    "df = pd.read_csv(r\"C:\\Users\\yanti\\Desktop\\UberData.csv\")\n",
    "df.head(3)"
   ]
  },
  {
   "cell_type": "code",
   "execution_count": 5,
   "id": "936477e5-cce9-4b77-a0b3-4b7cb46a84db",
   "metadata": {},
   "outputs": [
    {
     "data": {
      "text/plain": [
       "(150000, 21)"
      ]
     },
     "execution_count": 5,
     "metadata": {},
     "output_type": "execute_result"
    }
   ],
   "source": [
    "df.shape"
   ]
  },
  {
   "cell_type": "markdown",
   "id": "e4b98392-a988-469e-8cc7-133cb1eadf87",
   "metadata": {},
   "source": [
    "# Q1.Total Booking ?"
   ]
  },
  {
   "cell_type": "code",
   "execution_count": 8,
   "id": "90bbccd4-08a4-49c5-84cd-279e2875d6f1",
   "metadata": {},
   "outputs": [
    {
     "data": {
      "text/plain": [
       "150000"
      ]
     },
     "execution_count": 8,
     "metadata": {},
     "output_type": "execute_result"
    }
   ],
   "source": [
    "total_booking = len(df)\n",
    "total_booking"
   ]
  },
  {
   "cell_type": "markdown",
   "id": "19fe3369-72c8-4701-9194-efc9cf6a0de1",
   "metadata": {},
   "source": [
    "# Q2) Unique vehicle types?"
   ]
  },
  {
   "cell_type": "code",
   "execution_count": 15,
   "id": "05388399-1f13-438d-b8f5-fec8458f0b8b",
   "metadata": {},
   "outputs": [
    {
     "data": {
      "text/plain": [
       "array(['eBike', 'Go Sedan', 'Auto', 'Premier Sedan', 'Bike', 'Go Mini',\n",
       "       'Uber XL'], dtype=object)"
      ]
     },
     "execution_count": 15,
     "metadata": {},
     "output_type": "execute_result"
    }
   ],
   "source": [
    "Unique_vehicle = df['Vehicle Type'].unique()\n",
    "Unique_vehicle"
   ]
  },
  {
   "cell_type": "markdown",
   "id": "5b0c79a1-1700-4ed7-9d3e-19d7868aadb8",
   "metadata": {},
   "source": [
    "# Q3) Count of rides by Booking Status"
   ]
  },
  {
   "cell_type": "code",
   "execution_count": 19,
   "id": "5ed7418f-2fe7-4edb-b827-363bcdd4ed63",
   "metadata": {},
   "outputs": [
    {
     "data": {
      "text/plain": [
       "Booking Status\n",
       "Completed                93000\n",
       "Cancelled by Driver      27000\n",
       "No Driver Found          10500\n",
       "Cancelled by Customer    10500\n",
       "Incomplete                9000\n",
       "Name: count, dtype: int64"
      ]
     },
     "execution_count": 19,
     "metadata": {},
     "output_type": "execute_result"
    }
   ],
   "source": [
    "Status_count = df['Booking Status'].value_counts()\n",
    "Status_count\n"
   ]
  },
  {
   "cell_type": "markdown",
   "id": "0f5f93e8-b4af-4131-8d6e-02a5a47b866a",
   "metadata": {},
   "source": [
    "# Q4 Top 5 most common Pickup Locations"
   ]
  },
  {
   "cell_type": "code",
   "execution_count": 23,
   "id": "15c7bfb8-1cf9-4f65-8cc3-03cb27e4145f",
   "metadata": {},
   "outputs": [
    {
     "data": {
      "text/plain": [
       "Pickup Location\n",
       "Khandsa            949\n",
       "Barakhamba Road    946\n",
       "Saket              931\n",
       "Badarpur           921\n",
       "Pragati Maidan     920\n",
       "Name: count, dtype: int64"
      ]
     },
     "execution_count": 23,
     "metadata": {},
     "output_type": "execute_result"
    }
   ],
   "source": [
    "pickup_locations = df['Pickup Location'].value_counts().head(5)\n",
    "pickup_locations"
   ]
  },
  {
   "cell_type": "markdown",
   "id": "3f8df502-e6f3-4506-8c7f-298625d32ee1",
   "metadata": {},
   "source": [
    "# Q5 Most popular Payment Method"
   ]
  },
  {
   "cell_type": "code",
   "execution_count": 25,
   "id": "912840f1-4f92-40f5-bc1a-8fb016fcbd11",
   "metadata": {},
   "outputs": [
    {
     "name": "stdout",
     "output_type": "stream",
     "text": [
      "most Popular payment method = UPI\n"
     ]
    }
   ],
   "source": [
    "popular_payment = df['Payment Method'].value_counts().idxmax()\n",
    "print(\"most Popular payment method =\", popular_payment)"
   ]
  },
  {
   "cell_type": "markdown",
   "id": "ad33bfdb-4266-48d4-bfcc-f3e50d37dde0",
   "metadata": {},
   "source": [
    "# Q6 Average Booking Value of completed rides"
   ]
  },
  {
   "cell_type": "code",
   "execution_count": 27,
   "id": "4b0c17e1-112b-45c3-a924-a5ee6c7374a7",
   "metadata": {},
   "outputs": [
    {
     "name": "stdout",
     "output_type": "stream",
     "text": [
      "Avg Booking Value is = 508.18\n"
     ]
    }
   ],
   "source": [
    "Avg_value = df[df['Booking Status']=='Completed']['Booking Value'].mean()\n",
    "print(\"Avg Booking Value is =\",round(Avg_value,2))"
   ]
  },
  {
   "cell_type": "markdown",
   "id": "b8011b4c-29d1-4c41-af00-9d1bed7691be",
   "metadata": {},
   "source": [
    "# Q7 Average Ride Distance for each Vehicle Type"
   ]
  },
  {
   "cell_type": "code",
   "execution_count": 31,
   "id": "74e63125-fa30-41d7-843b-494be7c752dd",
   "metadata": {},
   "outputs": [
    {
     "name": "stdout",
     "output_type": "stream",
     "text": [
      "Vehicle Type\n",
      "Auto             24.62\n",
      "Bike             24.65\n",
      "Go Mini          24.61\n",
      "Go Sedan         24.61\n",
      "Premier Sedan    24.60\n",
      "Uber XL          24.40\n",
      "eBike            24.99\n",
      "Name: Ride Distance, dtype: float64\n"
     ]
    }
   ],
   "source": [
    "Avg_Distance_vehicle_type = df.groupby('Vehicle Type')['Ride Distance'].mean()\n",
    "print(round(Avg_Distance_vehicle_type,2))"
   ]
  },
  {
   "cell_type": "markdown",
   "id": "ae8e4cfe-d2fc-47f8-add4-b2d3cde6c0b3",
   "metadata": {},
   "source": [
    "# Q8 Count of Cancelled Rides by Customers"
   ]
  },
  {
   "cell_type": "code",
   "execution_count": 36,
   "id": "fc4a920a-15ad-4ee8-a595-4c67c4ce92c9",
   "metadata": {},
   "outputs": [
    {
     "data": {
      "text/plain": [
       "Reason for cancelling by Customer\n",
       "Wrong Address                                   2362\n",
       "Change of plans                                 2353\n",
       "Driver is not moving towards pickup location    2335\n",
       "Driver asked to cancel                          2295\n",
       "AC is not working                               1155\n",
       "Name: count, dtype: int64"
      ]
     },
     "execution_count": 36,
     "metadata": {},
     "output_type": "execute_result"
    }
   ],
   "source": [
    "cancelled_rides = df['Reason for cancelling by Customer'].value_counts()\n",
    "cancelled_rides"
   ]
  },
  {
   "cell_type": "markdown",
   "id": "97d0fbff-94d3-4e74-a4c3-7e46f478ca48",
   "metadata": {},
   "source": [
    "# Q9) Top 10 most common Pickup → Drop routes"
   ]
  },
  {
   "cell_type": "code",
   "execution_count": 12,
   "id": "cfe99fdd-4f82-44b9-88fd-cd5b269a1381",
   "metadata": {},
   "outputs": [
    {
     "name": "stdout",
     "output_type": "stream",
     "text": [
      "Route\n",
      "DLF City Court ➡➡➡ Bhiwadi            17\n",
      "Akshardham ➡➡➡ RK Puram               16\n",
      "Janakpuri ➡➡➡ Faridabad Sector 15     16\n",
      "Jor Bagh ➡➡➡ Rohini East              15\n",
      "Vatika Chowk ➡➡➡ Rithala              15\n",
      "Rithala ➡➡➡ Udyog Vihar Phase 4       15\n",
      "Ghaziabad ➡➡➡ Badshahpur              15\n",
      "Kashmere Gate ISBT ➡➡➡ Tilak Nagar    14\n",
      "Vaishali ➡➡➡ IIT Delhi                14\n",
      "South Extension ➡➡➡ Gwal Pahari       14\n",
      "Name: count, dtype: int64\n"
     ]
    }
   ],
   "source": [
    "df[\"Route\"]=df['Pickup Location']  + \" ➡➡➡ \"  +   df['Drop Location']\n",
    "Top_10 = df[\"Route\"].value_counts().head(10)\n",
    "print(Top_10)"
   ]
  },
  {
   "cell_type": "markdown",
   "id": "ec38e600-cf51-4424-8ac7-07ffd69f840f",
   "metadata": {},
   "source": [
    "# Q10) Monthly booking trend"
   ]
  },
  {
   "cell_type": "code",
   "execution_count": 16,
   "id": "9b32e132-5bc3-4a2a-a05b-e88cd72a8d28",
   "metadata": {},
   "outputs": [
    {
     "name": "stdout",
     "output_type": "stream",
     "text": [
      "month\n",
      "2024-01    12861\n",
      "2024-02    11927\n",
      "2024-03    12719\n",
      "2024-04    12199\n",
      "2024-05    12778\n",
      "2024-06    12440\n",
      "2024-07    12897\n",
      "2024-08    12636\n",
      "2024-09    12248\n",
      "2024-10    12651\n",
      "2024-11    12394\n",
      "2024-12    12250\n",
      "Freq: M, Name: count, dtype: int64\n"
     ]
    },
    {
     "name": "stderr",
     "output_type": "stream",
     "text": [
      "C:\\Users\\yanti\\AppData\\Local\\Temp\\ipykernel_14164\\2570778505.py:1: UserWarning: Could not infer format, so each element will be parsed individually, falling back to `dateutil`. To ensure parsing is consistent and as-expected, please specify a format.\n",
      "  df['Ride Date']= pd.to_datetime(df['Date'],errors = \"coerce\",dayfirst = True)\n"
     ]
    }
   ],
   "source": [
    "df['Ride Date']= pd.to_datetime(df['Date'],errors = \"coerce\",dayfirst = True)\n",
    "df[\"month\"] = df['Ride Date'].dt.to_period(\"M\")\n",
    "Monthly_Trend = df[\"month\"].value_counts().sort_index()\n",
    "print(Monthly_Trend)"
   ]
  },
  {
   "cell_type": "markdown",
   "id": "163fe689-6d53-4f86-ad91-82602371f3ac",
   "metadata": {},
   "source": [
    "# Q11) Average Driver Rating vs Customer Rating"
   ]
  },
  {
   "cell_type": "code",
   "execution_count": 18,
   "id": "ee76ffea-f8aa-4f96-9da5-12f8b6796dd0",
   "metadata": {},
   "outputs": [
    {
     "name": "stdout",
     "output_type": "stream",
     "text": [
      "Avg Driver Rating is =  4.23\n",
      "Avg Customer Rating is =  4.4\n"
     ]
    }
   ],
   "source": [
    "Avg_driver_rating  = df['Driver Ratings'].mean()\n",
    "Customer_rating = df['Customer Rating'].mean()\n",
    "\n",
    "print(\"Avg Driver Rating is = \",round(Avg_driver_rating,2))\n",
    "print(\"Avg Customer Rating is = \",round(Customer_rating,2))"
   ]
  },
  {
   "cell_type": "markdown",
   "id": "4f2745bf-0188-4846-9984-8e0dead8e592",
   "metadata": {},
   "source": [
    "# Q12) Top 5 reasons for Driver Cancellations"
   ]
  },
  {
   "cell_type": "code",
   "execution_count": 23,
   "id": "ce005212-b7b7-4b17-b097-abe1c94758b0",
   "metadata": {},
   "outputs": [
    {
     "name": "stdout",
     "output_type": "stream",
     "text": [
      "Top 5 Driver Cancellation reasons are\n",
      "___________________________________________\n",
      "Driver Cancellation Reason\n",
      "Customer related issue                 6837\n",
      "The customer was coughing/sick         6751\n",
      "Personal & Car related issues          6726\n",
      "More than permitted people in there    6686\n",
      "Name: count, dtype: int64\n"
     ]
    }
   ],
   "source": [
    "Top_5 = df['Driver Cancellation Reason'].value_counts().head(5)\n",
    "print(\"Top 5 Driver Cancellation reasons are\")\n",
    "print(\"___________________________________________\")\n",
    "\n",
    "print(Top_5)"
   ]
  },
  {
   "cell_type": "markdown",
   "id": "22928360-174e-466c-876a-ef6e8afbb6b8",
   "metadata": {},
   "source": [
    "# Q13) Distribution of Payment Methods"
   ]
  },
  {
   "cell_type": "code",
   "execution_count": 25,
   "id": "5af55716-0443-4533-bc2d-677f23f6857e",
   "metadata": {},
   "outputs": [
    {
     "name": "stdout",
     "output_type": "stream",
     "text": [
      "Payment Method\n",
      "UPI            45909\n",
      "Cash           25367\n",
      "Uber Wallet    12276\n",
      "Credit Card    10209\n",
      "Debit Card      8239\n",
      "Name: count, dtype: int64\n"
     ]
    }
   ],
   "source": [
    "Payment_method = df['Payment Method'].value_counts()\n",
    "print(Payment_method)"
   ]
  },
  {
   "cell_type": "markdown",
   "id": "49c277fc-7050-491a-95db-aec6e9025a04",
   "metadata": {},
   "source": [
    "# Q14) How many rides were Incomplete and their reasons?"
   ]
  },
  {
   "cell_type": "code",
   "execution_count": 34,
   "id": "65c1610e-f680-4ce0-b5aa-e28d04e996cb",
   "metadata": {},
   "outputs": [
    {
     "name": "stdout",
     "output_type": "stream",
     "text": [
      "Incomplete Rides Reason\n",
      "Customer Demand      3040\n",
      "Vehicle Breakdown    3012\n",
      "Other Issue          2948\n",
      "Name: count, dtype: int64\n"
     ]
    }
   ],
   "source": [
    "incompleted = df[df['Booking Status']==\"Incomplete\"]\n",
    "Reason = incompleted['Incomplete Rides Reason'].value_counts()\n",
    "print(Reason)"
   ]
  },
  {
   "cell_type": "markdown",
   "id": "72435f6f-9b39-4b01-a992-0c6b639b84c9",
   "metadata": {},
   "source": [
    "# Q15) Which Vehicle Type generates the highest revenue?"
   ]
  },
  {
   "cell_type": "code",
   "execution_count": 40,
   "id": "650e7d79-a983-4fba-a53a-3c33f73b504e",
   "metadata": {},
   "outputs": [
    {
     "name": "stdout",
     "output_type": "stream",
     "text": [
      "Vehicle Type\n",
      "Auto             12878422.0\n",
      "Go Mini          10338496.0\n",
      "Go Sedan          9369719.0\n",
      "Bike              7837697.0\n",
      "Premier Sedan     6275332.0\n",
      "eBike             3618485.0\n",
      "Uber XL           1528032.0\n",
      "Name: Booking Value, dtype: float64\n"
     ]
    }
   ],
   "source": [
    "Revenue_by_vehicle = df.groupby('Vehicle Type')['Booking Value'].sum().sort_values(ascending= False)\n",
    "print(Revenue_by_vehicle)"
   ]
  },
  {
   "cell_type": "markdown",
   "id": "094bb568-0032-485a-8e8e-e0b3f4b085fd",
   "metadata": {},
   "source": [
    "# Q16) Which day of the week has the most bookings?"
   ]
  },
  {
   "cell_type": "code",
   "execution_count": 43,
   "id": "4059317d-08ea-4d5a-a806-6a50f29bef39",
   "metadata": {},
   "outputs": [
    {
     "name": "stdout",
     "output_type": "stream",
     "text": [
      "weekday\n",
      "Monday       21644\n",
      "Saturday     21542\n",
      "Wednesday    21413\n",
      "Sunday       21398\n",
      "Friday       21397\n",
      "Tuesday      21391\n",
      "Thursday     21215\n",
      "Name: count, dtype: int64\n"
     ]
    },
    {
     "name": "stderr",
     "output_type": "stream",
     "text": [
      "C:\\Users\\yanti\\AppData\\Local\\Temp\\ipykernel_14164\\298694538.py:1: UserWarning: Could not infer format, so each element will be parsed individually, falling back to `dateutil`. To ensure parsing is consistent and as-expected, please specify a format.\n",
      "  df[\"Ride Date\"] = pd.to_datetime(df['Date'],errors = \"coerce\",dayfirst = True)\n"
     ]
    }
   ],
   "source": [
    "df[\"Ride Date\"] = pd.to_datetime(df['Date'],errors = \"coerce\",dayfirst = True)\n",
    "df[\"weekday\"] = df[\"Ride Date\"].dt.day_name()\n",
    "Week_bookings = df[\"weekday\"].value_counts()\n",
    "print(Week_bookings)"
   ]
  },
  {
   "cell_type": "markdown",
   "id": "dd5012bf-19cf-4421-a264-29c0ffdc764f",
   "metadata": {},
   "source": [
    "# Q17) Relationship between Ride Distance and Booking Value (correlation)"
   ]
  },
  {
   "cell_type": "code",
   "execution_count": 56,
   "id": "18f0b712-daf0-4d5a-96e5-2ad1cf4d98fa",
   "metadata": {},
   "outputs": [
    {
     "name": "stdout",
     "output_type": "stream",
     "text": [
      "If correlation is close to 1, longer rides = higher value\n",
      "----------------------------------------------------------\n",
      "If close to 0, no strong relationship.\n",
      "----------------------------------------------------------\n",
      "Relationship Between Ride Distance and Booking Value is 0.0052\n"
     ]
    }
   ],
   "source": [
    "Correlation = df['Ride Distance'].corr(df['Booking Value'])\n",
    "print(\"If correlation is close to 1, longer rides = higher value\")\n",
    "print(\"----------------------------------------------------------\")\n",
    "print(\"If close to 0, no strong relationship.\")\n",
    "print(\"----------------------------------------------------------\")\n",
    "print(\"Relationship Between Ride Distance and Booking Value is\" , (round(Correlation,4)))"
   ]
  },
  {
   "cell_type": "markdown",
   "id": "aa581230-6463-46ad-9704-5f0d2f11da29",
   "metadata": {},
   "source": [
    "# Q18) Does Driver Rating increase with Booking Value?"
   ]
  },
  {
   "cell_type": "code",
   "execution_count": 62,
   "id": "8a98c126-a981-44da-adf3-d45d69703769",
   "metadata": {},
   "outputs": [
    {
     "name": "stdout",
     "output_type": "stream",
     "text": [
      "Correlation Between Driver Ratings and Booking Value  -0.0002485109961663495\n"
     ]
    }
   ],
   "source": [
    "Driver_rating_correlation = df['Driver Ratings'].corr(df['Booking Value'])\n",
    "print(\"Correlation Between Driver Ratings and Booking Value \",Driver_rating_correlation)"
   ]
  },
  {
   "cell_type": "markdown",
   "id": "890a51f8-dc03-40b2-aa66-2ba0fd7bd25d",
   "metadata": {},
   "source": [
    "# Q19) Predictive insight: If a ride is cancelled, is it more likely due to Customer or Driver?"
   ]
  },
  {
   "cell_type": "code",
   "execution_count": 71,
   "id": "2977724a-9f11-4fa1-a131-d9a38c52c99b",
   "metadata": {},
   "outputs": [
    {
     "name": "stdout",
     "output_type": "stream",
     "text": [
      "Cancelations by driver : 27000\n",
      "Cancelations by customers : 10500\n",
      "Driver cancelations are higher than customers\n"
     ]
    }
   ],
   "source": [
    "driver_cancel = df['Driver Cancellation Reason'].notna().sum()\n",
    "customer_cancel = df['Reason for cancelling by Customer'].notna().sum()\n",
    "print(\"Cancelations by driver :\",driver_cancel)\n",
    "print(\"Cancelations by customers :\",customer_cancel)\n",
    "\n",
    "if driver_cancel > customer_cancel:\n",
    "    print(\"Driver cancelations are higher than customers\")\n",
    "elif driver_cancel < customer_cancel:\n",
    "    print(\"Customer Cancelations are higher than drivers\")\n",
    "else:\n",
    "    print(\"Both Drivers & Customers cancelations are equal\")"
   ]
  },
  {
   "cell_type": "markdown",
   "id": "52c07358-3041-4de5-bde6-a9f83f5f169e",
   "metadata": {},
   "source": [
    "# Q20) At what time of the day do most bookings happen?"
   ]
  },
  {
   "cell_type": "code",
   "execution_count": 75,
   "id": "49f5c37a-57cf-4302-9660-618429191dd9",
   "metadata": {},
   "outputs": [
    {
     "name": "stderr",
     "output_type": "stream",
     "text": [
      "C:\\Users\\yanti\\AppData\\Local\\Temp\\ipykernel_14164\\399315100.py:1: UserWarning: Could not infer format, so each element will be parsed individually, falling back to `dateutil`. To ensure parsing is consistent and as-expected, please specify a format.\n",
      "  df[\"Ride Time\"] = pd.to_datetime(df['Time'], errors = \"coerce\")\n"
     ]
    },
    {
     "name": "stdout",
     "output_type": "stream",
     "text": [
      "time_slot\n",
      "Morning      45458\n",
      "Evening      44118\n",
      "Afternoon    37342\n",
      "Night        23082\n",
      "Name: count, dtype: int64\n"
     ]
    }
   ],
   "source": [
    "df[\"Ride Time\"] = pd.to_datetime(df['Time'], errors = \"coerce\")\n",
    "df['Hour'] = df['Ride Time'].dt.hour\n",
    "def time_of_day(hour):\n",
    "    if 5 <= hour < 12:\n",
    "        return \"Morning\"\n",
    "    elif 12 <= hour < 17:\n",
    "        return \"Afternoon\"\n",
    "    elif 17 <= hour < 21:\n",
    "        return \"Evening\"\n",
    "    else:\n",
    "        return \"Night\"\n",
    "\n",
    "df['time_slot'] = df['Hour'].apply(time_of_day)\n",
    "Booking_value_hour = df['time_slot'].value_counts()\n",
    "print(Booking_value_hour)"
   ]
  },
  {
   "cell_type": "code",
   "execution_count": null,
   "id": "8abbf674-b14c-4ffb-ac39-b2383bdb7092",
   "metadata": {},
   "outputs": [],
   "source": []
  }
 ],
 "metadata": {
  "kernelspec": {
   "display_name": "Python 3 (ipykernel)",
   "language": "python",
   "name": "python3"
  },
  "language_info": {
   "codemirror_mode": {
    "name": "ipython",
    "version": 3
   },
   "file_extension": ".py",
   "mimetype": "text/x-python",
   "name": "python",
   "nbconvert_exporter": "python",
   "pygments_lexer": "ipython3",
   "version": "3.13.6"
  }
 },
 "nbformat": 4,
 "nbformat_minor": 5
}
